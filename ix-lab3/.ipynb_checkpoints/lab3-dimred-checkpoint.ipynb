{
 "cells": [
  {
   "cell_type": "markdown",
   "metadata": {},
   "source": [
    "# Lab 3 — dimensionality reduction"
   ]
  },
  {
   "cell_type": "code",
   "execution_count": 1,
   "metadata": {
    "collapsed": true
   },
   "outputs": [],
   "source": [
    "import json\n",
    "import matplotlib.pyplot as plt\n",
    "import numpy as np\n",
    "from operator import itemgetter\n",
    "from collections import OrderedDict\n",
    "\n",
    "%matplotlib inline\n",
    "plt.style.use(\"ggplot\")"
   ]
  },
  {
   "cell_type": "code",
   "execution_count": 2,
   "metadata": {
    "collapsed": false
   },
   "outputs": [
    {
     "name": "stdout",
     "output_type": "stream",
     "text": [
      "{\"tagId\": 1127, \"tag\": \"zombie\"}\n",
      "{\"tagId\": 1128, \"tag\": \"zombies\"}\n",
      "{\"relevance\": 0.11449999999999999, \"tagId\": 1127, \"movieId\": 131170}\n",
      "{\"relevance\": 0.02174999999999999, \"tagId\": 1128, \"movieId\": 131170}\n"
     ]
    }
   ],
   "source": [
    "!hdfs dfs -cat /ix/ml-20m/genome-tags.txt | tail -n 2\n",
    "!hdfs dfs -cat /ix/ml-20m/genome-scores.txt | tail -n 2"
   ]
  },
  {
   "cell_type": "markdown",
   "metadata": {},
   "source": [
    "# 1) Statistic"
   ]
  },
  {
   "cell_type": "code",
   "execution_count": 3,
   "metadata": {
    "collapsed": false
   },
   "outputs": [
    {
     "name": "stdout",
     "output_type": "stream",
     "text": [
      "There are 1128 elements in RDD tag_name\n",
      "There are 11709768 elements in RDD tag_score\n",
      "There are 1128 tags\n",
      "There are 10381 movies\n"
     ]
    }
   ],
   "source": [
    "def load_data():\n",
    "    tag_name = sc.textFile(\"/ix/ml-20m/genome-tags.txt\").map(json.loads)\n",
    "    tag_score = sc.textFile(\"/ix/ml-20m/genome-scores.txt\").map(json.loads)\n",
    "    tag2name = dict(tag_name.map(itemgetter(\"tagId\", \"tag\")).collect())\n",
    "    print (\"There are {e} elements in RDD tag_name\".format(e = tag_name.count()))\n",
    "    print (\"There are {e} elements in RDD tag_score\".format(e = tag_score.count()))\n",
    "\n",
    "    print (\"There are {x} tags\".format(x = tag_name.count()))\n",
    "    movies = tag_score.map(lambda x : x['movieId'])\n",
    "    setMovies = set(movies.collect())\n",
    "    print (\"There are {x} movies\".format(x = len(setMovies)))\n",
    "    return tag_name, tag_score, tag2name, setMovies, tag_name.count(), len(setMovies)\n",
    "\n",
    "tag_name, tag_score, tag2name, setMovies, M, N = load_data()"
   ]
  },
  {
   "cell_type": "markdown",
   "metadata": {},
   "source": [
    "# 2) Collect data and perform Dimensionality Reduction"
   ]
  },
  {
   "cell_type": "code",
   "execution_count": 4,
   "metadata": {
    "collapsed": false,
    "scrolled": false
   },
   "outputs": [],
   "source": [
    "# Map movie ID into a range continuously\n",
    "movieId2index = {}\n",
    "for index, movieId in enumerate(setMovies):\n",
    "    movieId2index[movieId] = index"
   ]
  },
  {
   "cell_type": "code",
   "execution_count": 5,
   "metadata": {
    "collapsed": false
   },
   "outputs": [],
   "source": [
    "def create_matrix(nbMovie, nbTag):\n",
    "    matrix = np.zeros((nbMovie,nbTag))\n",
    "    data = tag_score.map(lambda x : (str(x['movieId'])+\",\"+str(x['tagId']),x['relevance']))\n",
    "    for x in data.collect():\n",
    "        movieId, tagId = x[0].split(\",\")\n",
    "        matrix[movieId2index[int(movieId)] , int(tagId) - 1] = x[1]\n",
    "    return matrix\n",
    "matrix = create_matrix(N,M)"
   ]
  },
  {
   "cell_type": "code",
   "execution_count": 10,
   "metadata": {
    "collapsed": false
   },
   "outputs": [],
   "source": [
    "def standardize(x):\n",
    "    \"\"\"Standardize the original data set.\"\"\"\n",
    "    mean_x = np.mean(x, axis=0)\n",
    "    x = x - mean_x\n",
    "    std_x = np.std(x, axis=0)\n",
    "    x = x / std_x\n",
    "    return x, mean_x, std_x\n",
    "\n",
    "\n",
    "def de_standardize(x, mean_x, std_x):\n",
    "    \"\"\"Reverse the procedure of standardization.\"\"\"\n",
    "    x = x * std_x\n",
    "    x = x + mean_x\n",
    "    return x"
   ]
  },
  {
   "cell_type": "code",
   "execution_count": 34,
   "metadata": {
    "collapsed": false
   },
   "outputs": [],
   "source": [
    "def eigens(matrix):\n",
    "    \"\"\"Return eigenvalue, eigenvector decreasing order\"\"\"\n",
    "    nbMovie , nbTag = matrix.shape\n",
    "    mean_x = np.mean(matrix, axis=0)\n",
    "    matrix = matrix - mean_x\n",
    "    covariance_matrix = matrix.T @ matrix / nbMovie\n",
    "    eigenvalues, eigenvectors = np.linalg.eig(covariance_matrix)\n",
    "    return covariance_matrix, eigenvalues, eigenvectors"
   ]
  },
  {
   "cell_type": "code",
   "execution_count": 31,
   "metadata": {
    "collapsed": true
   },
   "outputs": [],
   "source": [
    "def compute_mse_matrix(x, x_):\n",
    "    return (np.mean(np.square(x-x_)))"
   ]
  },
  {
   "cell_type": "code",
   "execution_count": 46,
   "metadata": {
    "collapsed": false
   },
   "outputs": [],
   "source": [
    "\"\"\"k = k first principle components\"\"\"\n",
    "def dimensionality_reduction(matrix, k):\n",
    "    covariance_matrix, eigenvalues, eigenvectors = eigens(matrix)\n",
    "    M, _ = eigenvectors.shape\n",
    "    new_features = eigenvectors[:k]\n",
    "    data_reduction = new_features @ matrix.T # data one new space (k eigenvectors)\n",
    "    new_matrix = (new_features.T @ data_reduction).T\n",
    "    print (\"With k = {i}, we have an error of {e}\".format(i=k,e=compute_mse_matrix(matrix,new_matrix)))\n",
    "    \n",
    "    return new_matrix"
   ]
  },
  {
   "cell_type": "code",
   "execution_count": 47,
   "metadata": {
    "collapsed": false
   },
   "outputs": [
    {
     "name": "stdout",
     "output_type": "stream",
     "text": [
      "True\n",
      "With k = 1, we have an error of 0.037321428172915797\n",
      "True\n",
      "With k = 2, we have an error of 0.037289963267396864\n",
      "True\n",
      "With k = 3, we have an error of 0.03726921214901631\n",
      "True\n",
      "With k = 4, we have an error of 0.037246133687723185\n",
      "True\n",
      "With k = 5, we have an error of 0.03723076986310604\n",
      "True\n",
      "With k = 6, we have an error of 0.037217552993347204\n",
      "True\n",
      "With k = 7, we have an error of 0.03720510146408689\n",
      "True\n",
      "With k = 8, we have an error of 0.03719336284798926\n",
      "True\n",
      "With k = 9, we have an error of 0.03716090109696655\n"
     ]
    }
   ],
   "source": [
    "for x in range(1,10):\n",
    "    dimensionality_reduction(matrix, x)"
   ]
  },
  {
   "cell_type": "markdown",
   "metadata": {},
   "source": [
    "## Exercise 3.1"
   ]
  },
  {
   "cell_type": "code",
   "execution_count": 69,
   "metadata": {
    "collapsed": false
   },
   "outputs": [
    {
     "data": {
      "image/png": "[encoded data removed]",
      "text/plain": [
       "<matplotlib.figure.Figure at 0x7f02baea66d8>"
      ]
     },
     "metadata": {},
     "output_type": "display_data"
    },
    {
     "data": {
      "image/png": "[encoded data removed]",
      "text/plain": [
       "<matplotlib.figure.Figure at 0x7f02ba433358>"
      ]
     },
     "metadata": {},
     "output_type": "display_data"
    }
   ],
   "source": [
    "def plot_plot():\n",
    "    x, mean_x, std_x = standardize(matrix)\n",
    "    covariance_matrix, eigenvalues, eigenvectors = eigens(x)\n",
    "    variance = [covariance_matrix[a,a] for a in range(M)]\n",
    "    variance = np.sort(variance)\n",
    "    eigenvalues = np.sort(eigenvalues)\n",
    "    \n",
    "    \"\"\"Plot the variance of each dimension\"\"\"\n",
    "    plt.figure()\n",
    "    plt.plot(variance, color='b')\n",
    "    plt.title(\"Variance of each tag\")\n",
    "    plt.xlabel(\"Tag\")\n",
    "    plt.ylabel(\"Variance (sorted)\")\n",
    "    plt.show()\n",
    "    \n",
    "    \"\"\"Plot the eigenvalues\"\"\"\n",
    "    plt.figure()\n",
    "    plt.plot(eigenvalues, color='b',ms=2,marker='x')\n",
    "    plt.title(\"Plot of all eigenvalues\")\n",
    "    plt.xlabel(\"Number of eigenvalue\")\n",
    "    plt.ylabel(\"Values (sorted)\")\n",
    "    plt.show()\n",
    "plot_plot()"
   ]
  },
  {
   "cell_type": "code",
   "execution_count": 45,
   "metadata": {
    "collapsed": false
   },
   "outputs": [
    {
     "name": "stdout",
     "output_type": "stream",
     "text": [
      "True\n",
      "Number of principle directions needed for capturing 0.6666666666666666 the variability of the data is 37\n"
     ]
    }
   ],
   "source": [
    "def capture_variability(matrix, quantity):\n",
    "    #x, mean_x, std_x = standardize(matrix)\n",
    "    covariance_matrix, eigenvalues, eigenvectors = eigens(matrix)\n",
    "    eigenvalues = eigenvalues/np.sum(eigenvalues)\n",
    "    nbDirection = 0\n",
    "    captureVariance = 0\n",
    "    while (captureVariance < quantity):\n",
    "        captureVariance += eigenvalues[nbDirection]\n",
    "        nbDirection += 1\n",
    "    print (\"Number of principle directions needed for capturing {q} the variability of the data is {v}\".format(q = quantity,v=nbDirection))\n",
    "\n",
    "capture_variability(matrix,2/3)   "
   ]
  },
  {
   "cell_type": "markdown",
   "metadata": {},
   "source": [
    "#### Dimensionality reduction tries to capture the maximum variability of the data (also mean minimum error when we want to reconstruct data). The first principle eigenvector (which corresponds to the highest eigenvalue) gives the direction of highest variability that we can capture and so on..."
   ]
  },
  {
   "cell_type": "markdown",
   "metadata": {},
   "source": [
    "## Exercice 3.2"
   ]
  },
  {
   "cell_type": "code",
   "execution_count": 14,
   "metadata": {
    "collapsed": true
   },
   "outputs": [],
   "source": [
    "def find_top_tags(direction):\n",
    "    indexes_sorted = np.argsort(direction)\n",
    "    print (\"*****Top 10 tags that have the HIGHEST coordinates in that direction: *****\")\n",
    "    for i in indexes_sorted[::-1][:10]:        \n",
    "        print(tag2name[i])\n",
    "    print (\"*****Top 10 tags that have the LOWEST coordinates in that direction: *****\")\n",
    "    for i in indexes_sorted[:10]:\n",
    "        print(tag2name[i])"
   ]
  },
  {
   "cell_type": "code",
   "execution_count": 76,
   "metadata": {
    "collapsed": false
   },
   "outputs": [
    {
     "name": "stdout",
     "output_type": "stream",
     "text": [
      "------- The first direction:  -------\n",
      "*****Top 10 tags that have the HIGHEST coordinates in that direction: *****\n",
      "anime\n",
      "moving\n",
      "minnesota\n",
      "boat\n",
      "mexico\n",
      "allegory\n",
      "aviation\n",
      "cartoon\n",
      "art house\n",
      "frightening\n",
      "*****Top 10 tags that have the LOWEST coordinates in that direction: *****\n",
      "artificial intelligence\n",
      "argentina\n",
      "bizarre\n",
      "archaeology\n",
      "monster\n",
      "italian\n",
      "manipulation\n",
      "homophobia\n",
      "death penalty\n",
      "bad cgi\n",
      "------- The second direction:  -------\n",
      "*****Top 10 tags that have the HIGHEST coordinates in that direction: *****\n",
      "manipulation\n",
      "mtv\n",
      "obsession\n",
      "paranoid\n",
      "radio\n",
      "passionate\n",
      "movielens top pick\n",
      "original\n",
      "multiple storylines\n",
      "literature\n",
      "*****Top 10 tags that have the LOWEST coordinates in that direction: *****\n",
      "mexico\n",
      "moving\n",
      "minnesota\n",
      "loneliness\n",
      "movie business\n",
      "music\n",
      "military\n",
      "murder\n",
      "artificial intelligence\n",
      "robot\n",
      "------- The third direction:  -------\n",
      "*****Top 10 tags that have the HIGHEST coordinates in that direction: *****\n",
      "gunfight\n",
      "hacking\n",
      "adultery\n",
      "guns\n",
      "writer's life\n",
      "vietnam\n",
      "truman capote\n",
      "hackers\n",
      "time\n",
      "animated\n",
      "*****Top 10 tags that have the LOWEST coordinates in that direction: *****\n",
      "gulf war\n",
      "guilt\n",
      "gypsy accent\n",
      "world war i\n",
      "adaptation\n",
      "9/11\n",
      "short\n",
      "witches\n",
      "time loop\n",
      "1950s\n",
      "------- The fourth direction:  -------\n",
      "*****Top 10 tags that have the HIGHEST coordinates in that direction: *****\n",
      "math\n",
      "notable soundtrack\n",
      "afterlife\n",
      "marriage\n",
      "nuclear bomb\n",
      "prostitution\n",
      "monsters\n",
      "irreverent\n",
      "alien\n",
      "non-linear\n",
      "*****Top 10 tags that have the LOWEST coordinates in that direction: *****\n",
      "aging\n",
      "insanity\n",
      "over the top\n",
      "natural disaster\n",
      "pixar\n",
      "mission from god\n",
      "office\n",
      "no plot\n",
      "nature\n",
      "gross-out\n",
      "------- The fifth direction -------\n",
      "*****Top 10 tags that have the HIGHEST coordinates in that direction: *****\n",
      "moody\n",
      "slackers\n",
      "virginity\n",
      "weapons\n",
      "ireland\n",
      "giant robots\n",
      "distopia\n",
      "visceral\n",
      "amazing photography\n",
      "western\n",
      "*****Top 10 tags that have the LOWEST coordinates in that direction: *****\n",
      "trilogy\n",
      "script\n",
      "zombie\n",
      "mythology\n",
      "alone in the world\n",
      "post-apocalyptic\n",
      "tricky\n",
      "british comedy\n",
      "swedish\n",
      "stop motion\n"
     ]
    }
   ],
   "source": [
    "def concepts(matrix, k):\n",
    "    x, mean_x, std_x = standardize(matrix)\n",
    "    covariance_matrix, eigenvalues, eigenvectors = eigens(x)\n",
    "    dimension = len(eigenvalues)\n",
    "    principle_directions = eigenvectors[:k]\n",
    "    projection = principle_directions@matrix.T\n",
    "    for i in range (k):\n",
    "        string = \"The first direction: \" if i==0 else (\"The second direction: \" if i==1 else \n",
    "                (\"The third direction: \" if i==2 else (\"The fourth direction: \" if i==3 else (\"The fifth direction\"))))\n",
    "        print(\"-------\",string,\"-------\")\n",
    "        find_top_tags(principle_directions[i,])\n",
    "    \n",
    "concepts(matrix, 5)\n"
   ]
  },
  {
   "cell_type": "markdown",
   "metadata": {},
   "source": [
    "#### In this case, we use the five first pricipal components and try to summarise all the tags properties that strongly differ accross tags. The main thing is that we are not interesting to the property that is the same fo most of the tags, PCA looks for properties that give us the maximun variability across tags as possible. So here, these concepts are the summary of the tags"
   ]
  },
  {
   "cell_type": "code",
   "execution_count": 78,
   "metadata": {
    "collapsed": false
   },
   "outputs": [],
   "source": [
    "def write_tag_coordinates(matrix):\n",
    "    x, mean_x, std_x = standardize(matrix)\n",
    "    covariance_matrix, eigenvalues, eigenvectors = eigens(x)\n",
    "    dimension = len(eigenvalues)\n",
    "    principle_directions = eigenvectors[:5]\n",
    "    data = {}\n",
    "    for tagId in range(dimension):\n",
    "        array = principle_directions.T[tagId]\n",
    "        data[tag2name[tagId+1]] = [array[0],array[1],array[2],array[3],array[4]]\n",
    "    with open('tag-coordinates.txt', 'w') as f:\n",
    "        json.dump(data, f)\n",
    "write_tag_coordinates(matrix)"
   ]
  },
  {
   "cell_type": "markdown",
   "metadata": {},
   "source": [
    "## Exercice 3.3"
   ]
  },
  {
   "cell_type": "code",
   "execution_count": 6,
   "metadata": {
    "collapsed": false
   },
   "outputs": [],
   "source": [
    "import pickle\n",
    "from bokeh.plotting import figure, output_file, show, ColumnDataSource\n",
    "from bokeh.models import HoverTool\n",
    "from bokeh.io import output_notebook\n",
    "from bokeh.models import Range1d\n",
    "with open(\"selected-movies.pickle\", \"rb\") as f:\n",
    "    sel_movs = pickle.load(f, encoding=\"utf8\")\n",
    "data_= sc.textFile(\"/ix/ml-20m/movies.txt\").map(json.loads)"
   ]
  },
  {
   "cell_type": "code",
   "execution_count": 7,
   "metadata": {
    "collapsed": true
   },
   "outputs": [],
   "source": [
    "def visualization(x_, y_, names_, colors_):\n",
    "    output_notebook()\n",
    "    colors = [\"#%02x%02x%02x\" % (int(r*255),int(r*255),int(r*255)) for r in colors_]\n",
    "    source = ColumnDataSource(\n",
    "        data=dict(\n",
    "                    x=x_,\n",
    "                    y=y_,\n",
    "                    label=names_\n",
    "                 )\n",
    "    )\n",
    "    TOOLS=\"pan,wheel_zoom,box_zoom,reset,hover,previewsave\"\n",
    "    p = figure(title=\"Tomatoes score for some movies, color is white if score = 1 and black if score = 0\", tools=TOOLS)\n",
    "    p.circle('x', 'y', fill_color=colors, size=20, source=source)\n",
    "\n",
    "    hover =p.select(dict(type=HoverTool))\n",
    "    hover.tooltips = OrderedDict([(\"name\", \"@label\"),])\n",
    "    p.x_range = Range1d(-.75, .5)\n",
    "    p.y_range = Range1d(-1.5, 0)\n",
    "    show(p)"
   ]
  },
  {
   "cell_type": "code",
   "execution_count": 13,
   "metadata": {
    "collapsed": false
   },
   "outputs": [
    {
     "data": {
      "text/html": [
       "\n",
       "    <div class=\"bk-root\">\n",
       "        <a href=\"http://bokeh.pydata.org\" target=\"_blank\" class=\"bk-logo bk-logo-small bk-logo-notebook\"></a>\n",
       "        <span id=\"8677eadb-420e-42ea-89b7-0553c3b0b92b\">Loading BokehJS ...</span>\n",
       "    </div>"
      ]
     },
     "metadata": {},
     "output_type": "display_data"
    },
    {
     "data": {
      "application/javascript": [
       "\n",
       "(function(global) {\n",
       "  function now() {\n",
       "    return new Date();\n",
       "  }\n",
       "\n",
       "  var force = \"1\";\n",
       "\n",
       "  if (typeof (window._bokeh_onload_callbacks) === \"undefined\" || force !== \"\") {\n",
       "    window._bokeh_onload_callbacks = [];\n",
       "    window._bokeh_is_loading = undefined;\n",
       "  }\n",
       "\n",
       "\n",
       "  \n",
       "  if (typeof (window._bokeh_timeout) === \"undefined\" || force !== \"\") {\n",
       "    window._bokeh_timeout = Date.now() + 5000;\n",
       "    window._bokeh_failed_load = false;\n",
       "  }\n",
       "\n",
       "  var NB_LOAD_WARNING = {'data': {'text/html':\n",
       "     \"<div style='background-color: #fdd'>\\n\"+\n",
       "     \"<p>\\n\"+\n",
       "     \"BokehJS does not appear to have successfully loaded. If loading BokehJS from CDN, this \\n\"+\n",
       "     \"may be due to a slow or bad network connection. Possible fixes:\\n\"+\n",
       "     \"</p>\\n\"+\n",
       "     \"<ul>\\n\"+\n",
       "     \"<li>re-rerun `output_notebook()` to attempt to load from CDN again, or</li>\\n\"+\n",
       "     \"<li>use INLINE resources instead, as so:</li>\\n\"+\n",
       "     \"</ul>\\n\"+\n",
       "     \"<code>\\n\"+\n",
       "     \"from bokeh.resources import INLINE\\n\"+\n",
       "     \"output_notebook(resources=INLINE)\\n\"+\n",
       "     \"</code>\\n\"+\n",
       "     \"</div>\"}};\n",
       "\n",
       "  function display_loaded() {\n",
       "    if (window.Bokeh !== undefined) {\n",
       "      Bokeh.$(\"#8677eadb-420e-42ea-89b7-0553c3b0b92b\").text(\"BokehJS successfully loaded.\");\n",
       "    } else if (Date.now() < window._bokeh_timeout) {\n",
       "      setTimeout(display_loaded, 100)\n",
       "    }\n",
       "  }\n",
       "\n",
       "  function run_callbacks() {\n",
       "    window._bokeh_onload_callbacks.forEach(function(callback) { callback() });\n",
       "    delete window._bokeh_onload_callbacks\n",
       "    console.info(\"Bokeh: all callbacks have finished\");\n",
       "  }\n",
       "\n",
       "  function load_libs(js_urls, callback) {\n",
       "    window._bokeh_onload_callbacks.push(callback);\n",
       "    if (window._bokeh_is_loading > 0) {\n",
       "      console.log(\"Bokeh: BokehJS is being loaded, scheduling callback at\", now());\n",
       "      return null;\n",
       "    }\n",
       "    if (js_urls == null || js_urls.length === 0) {\n",
       "      run_callbacks();\n",
       "      return null;\n",
       "    }\n",
       "    console.log(\"Bokeh: BokehJS not loaded, scheduling load and callback at\", now());\n",
       "    window._bokeh_is_loading = js_urls.length;\n",
       "    for (var i = 0; i < js_urls.length; i++) {\n",
       "      var url = js_urls[i];\n",
       "      var s = document.createElement('script');\n",
       "      s.src = url;\n",
       "      s.async = false;\n",
       "      s.onreadystatechange = s.onload = function() {\n",
       "        window._bokeh_is_loading--;\n",
       "        if (window._bokeh_is_loading === 0) {\n",
       "          console.log(\"Bokeh: all BokehJS libraries loaded\");\n",
       "          run_callbacks()\n",
       "        }\n",
       "      };\n",
       "      s.onerror = function() {\n",
       "        console.warn(\"failed to load library \" + url);\n",
       "      };\n",
       "      console.log(\"Bokeh: injecting script tag for BokehJS library: \", url);\n",
       "      document.getElementsByTagName(\"head\")[0].appendChild(s);\n",
       "    }\n",
       "  };var element = document.getElementById(\"8677eadb-420e-42ea-89b7-0553c3b0b92b\");\n",
       "  if (element == null) {\n",
       "    console.log(\"Bokeh: ERROR: autoload.js configured with elementid '8677eadb-420e-42ea-89b7-0553c3b0b92b' but no matching script tag was found. \")\n",
       "    return false;\n",
       "  }\n",
       "\n",
       "  var js_urls = ['https://cdn.pydata.org/bokeh/release/bokeh-0.12.2.min.js', 'https://cdn.pydata.org/bokeh/release/bokeh-widgets-0.12.2.min.js', 'https://cdn.pydata.org/bokeh/release/bokeh-compiler-0.12.2.min.js'];\n",
       "\n",
       "  var inline_js = [\n",
       "    function(Bokeh) {\n",
       "      Bokeh.set_log_level(\"info\");\n",
       "    },\n",
       "    \n",
       "    function(Bokeh) {\n",
       "      \n",
       "      Bokeh.$(\"#8677eadb-420e-42ea-89b7-0553c3b0b92b\").text(\"BokehJS is loading...\");\n",
       "    },\n",
       "    function(Bokeh) {\n",
       "      console.log(\"Bokeh: injecting CSS: https://cdn.pydata.org/bokeh/release/bokeh-0.12.2.min.css\");\n",
       "      Bokeh.embed.inject_css(\"https://cdn.pydata.org/bokeh/release/bokeh-0.12.2.min.css\");\n",
       "      console.log(\"Bokeh: injecting CSS: https://cdn.pydata.org/bokeh/release/bokeh-widgets-0.12.2.min.css\");\n",
       "      Bokeh.embed.inject_css(\"https://cdn.pydata.org/bokeh/release/bokeh-widgets-0.12.2.min.css\");\n",
       "    }\n",
       "  ];\n",
       "\n",
       "  function run_inline_js() {\n",
       "    \n",
       "    if ((window.Bokeh !== undefined) || (force === \"1\")) {\n",
       "      for (var i = 0; i < inline_js.length; i++) {\n",
       "        inline_js[i](window.Bokeh);\n",
       "      }if (force === \"1\") {\n",
       "        display_loaded();\n",
       "      }} else if (Date.now() < window._bokeh_timeout) {\n",
       "      setTimeout(run_inline_js, 100);\n",
       "    } else if (!window._bokeh_failed_load) {\n",
       "      console.log(\"Bokeh: BokehJS failed to load within specified timeout.\");\n",
       "      window._bokeh_failed_load = true;\n",
       "    } else if (!force) {\n",
       "      var cell = $(\"#8677eadb-420e-42ea-89b7-0553c3b0b92b\").parents('.cell').data().cell;\n",
       "      cell.output_area.append_execute_result(NB_LOAD_WARNING)\n",
       "    }\n",
       "\n",
       "  }\n",
       "\n",
       "  if (window._bokeh_is_loading === 0) {\n",
       "    console.log(\"Bokeh: BokehJS loaded, going straight to plotting\");\n",
       "    run_inline_js();\n",
       "  } else {\n",
       "    load_libs(js_urls, function() {\n",
       "      console.log(\"Bokeh: BokehJS plotting callback run at\", now());\n",
       "      run_inline_js();\n",
       "    });\n",
       "  }\n",
       "}(this));"
      ]
     },
     "metadata": {},
     "output_type": "display_data"
    },
    {
     "data": {
      "text/html": [
       "\n",
       "\n",
       "    <div class=\"bk-root\">\n",
       "        <div class=\"plotdiv\" id=\"e7a05174-5f01-44a3-a827-d81c613e7897\"></div>\n",
       "    </div>\n",
       "<script type=\"text/javascript\">\n",
       "  \n",
       "  (function(global) {\n",
       "    function now() {\n",
       "      return new Date();\n",
       "    }\n",
       "  \n",
       "    var force = \"\";\n",
       "  \n",
       "    if (typeof (window._bokeh_onload_callbacks) === \"undefined\" || force !== \"\") {\n",
       "      window._bokeh_onload_callbacks = [];\n",
       "      window._bokeh_is_loading = undefined;\n",
       "    }\n",
       "  \n",
       "  \n",
       "    \n",
       "    if (typeof (window._bokeh_timeout) === \"undefined\" || force !== \"\") {\n",
       "      window._bokeh_timeout = Date.now() + 0;\n",
       "      window._bokeh_failed_load = false;\n",
       "    }\n",
       "  \n",
       "    var NB_LOAD_WARNING = {'data': {'text/html':\n",
       "       \"<div style='background-color: #fdd'>\\n\"+\n",
       "       \"<p>\\n\"+\n",
       "       \"BokehJS does not appear to have successfully loaded. If loading BokehJS from CDN, this \\n\"+\n",
       "       \"may be due to a slow or bad network connection. Possible fixes:\\n\"+\n",
       "       \"</p>\\n\"+\n",
       "       \"<ul>\\n\"+\n",
       "       \"<li>re-rerun `output_notebook()` to attempt to load from CDN again, or</li>\\n\"+\n",
       "       \"<li>use INLINE resources instead, as so:</li>\\n\"+\n",
       "       \"</ul>\\n\"+\n",
       "       \"<code>\\n\"+\n",
       "       \"from bokeh.resources import INLINE\\n\"+\n",
       "       \"output_notebook(resources=INLINE)\\n\"+\n",
       "       \"</code>\\n\"+\n",
       "       \"</div>\"}};\n",
       "  \n",
       "    function display_loaded() {\n",
       "      if (window.Bokeh !== undefined) {\n",
       "        Bokeh.$(\"#e7a05174-5f01-44a3-a827-d81c613e7897\").text(\"BokehJS successfully loaded.\");\n",
       "      } else if (Date.now() < window._bokeh_timeout) {\n",
       "        setTimeout(display_loaded, 100)\n",
       "      }\n",
       "    }\n",
       "  \n",
       "    function run_callbacks() {\n",
       "      window._bokeh_onload_callbacks.forEach(function(callback) { callback() });\n",
       "      delete window._bokeh_onload_callbacks\n",
       "      console.info(\"Bokeh: all callbacks have finished\");\n",
       "    }\n",
       "  \n",
       "    function load_libs(js_urls, callback) {\n",
       "      window._bokeh_onload_callbacks.push(callback);\n",
       "      if (window._bokeh_is_loading > 0) {\n",
       "        console.log(\"Bokeh: BokehJS is being loaded, scheduling callback at\", now());\n",
       "        return null;\n",
       "      }\n",
       "      if (js_urls == null || js_urls.length === 0) {\n",
       "        run_callbacks();\n",
       "        return null;\n",
       "      }\n",
       "      console.log(\"Bokeh: BokehJS not loaded, scheduling load and callback at\", now());\n",
       "      window._bokeh_is_loading = js_urls.length;\n",
       "      for (var i = 0; i < js_urls.length; i++) {\n",
       "        var url = js_urls[i];\n",
       "        var s = document.createElement('script');\n",
       "        s.src = url;\n",
       "        s.async = false;\n",
       "        s.onreadystatechange = s.onload = function() {\n",
       "          window._bokeh_is_loading--;\n",
       "          if (window._bokeh_is_loading === 0) {\n",
       "            console.log(\"Bokeh: all BokehJS libraries loaded\");\n",
       "            run_callbacks()\n",
       "          }\n",
       "        };\n",
       "        s.onerror = function() {\n",
       "          console.warn(\"failed to load library \" + url);\n",
       "        };\n",
       "        console.log(\"Bokeh: injecting script tag for BokehJS library: \", url);\n",
       "        document.getElementsByTagName(\"head\")[0].appendChild(s);\n",
       "      }\n",
       "    };var element = document.getElementById(\"e7a05174-5f01-44a3-a827-d81c613e7897\");\n",
       "    if (element == null) {\n",
       "      console.log(\"Bokeh: ERROR: autoload.js configured with elementid 'e7a05174-5f01-44a3-a827-d81c613e7897' but no matching script tag was found. \")\n",
       "      return false;\n",
       "    }\n",
       "  \n",
       "    var js_urls = [];\n",
       "  \n",
       "    var inline_js = [\n",
       "      function(Bokeh) {\n",
       "        Bokeh.$(function() {\n",
       "            var docs_json = {\"143e2a2d-b825-48bc-8884-613c8d68575b\":{\"roots\":{\"references\":[{\"attributes\":{\"callback\":null,\"column_names\":[\"y\",\"label\",\"x\",\"fill_color\"],\"data\":{\"fill_color\":[\"#999999\",\"#e2e2e2\",\"#dddddd\",\"#e8e8e8\",\"#d3d3d3\",\"#f2f2f2\",\"#dddddd\",\"#262626\",\"#212121\",\"#d8d8d8\",\"#c6c6c6\",\"#d8d8d8\",\"#eaeaea\",\"#ededed\",\"#ededed\",\"#777777\",\"#f4f4f4\",\"#c9c9c9\",\"#2b2b2b\",\"#e0e0e0\",\"#e5e5e5\",\"#565656\",\"#cecece\",\"#ffffff\",\"#e8e8e8\",\"#b7b7b7\",\"#f2f2f2\",\"#cccccc\",\"#adadad\",\"#a3a3a3\",\"#f9f9f9\",\"#828282\",\"#f2f2f2\",\"#aaaaaa\",\"#d3d3d3\",\"#e0e0e0\",\"#999999\"],\"label\":[[\"Independence Day (a.k.a. ID4) (1996)\",[[\"Action\",\"Adventure\",\"Sci-Fi\",\"Thriller\"]]],[\"Spider-Man (2002)\",[[\"Action\",\"Adventure\",\"Sci-Fi\",\"Thriller\"]]],[\"Matrix, The (1999)\",[[\"Action\",\"Sci-Fi\",\"Thriller\"]]],[\"Shawshank Redemption, The (1994)\",[[\"Crime\",\"Drama\"]]],[\"American History X (1998)\",[[\"Crime\",\"Drama\"]]],[\"Wild Strawberries (Smultronst\\u00e4llet) (1957)\",[[\"Drama\"]]],[\"Control (2007)\",[[\"Drama\"]]],[\"Miss Congeniality 2: Armed and Fabulous (2005)\",[[\"Adventure\",\"Comedy\",\"Crime\"]]],[\"Just My Luck (2006)\",[[\"Comedy\",\"Romance\"]]],[\"Santa Sangre (1989)\",[[\"Drama\",\"Horror\",\"Mystery\",\"Thriller\"]]],[\"Videodrome (1983)\",[[\"Fantasy\",\"Horror\",\"Sci-Fi\",\"Thriller\"]]],[\"Billy Elliot (2000)\",[[\"Drama\"]]],[\"Pride (2014)\",[[\"Comedy\",\"Drama\"]]],[\"Jurassic Park (1993)\",[[\"Action\",\"Adventure\",\"Sci-Fi\",\"Thriller\"]]],[\"Star Wars: Episode IV - A New Hope (1977)\",[[\"Action\",\"Adventure\",\"Sci-Fi\"]]],[\"Princess Diaries, The (2001)\",[[\"Children\",\"Comedy\",\"Romance\"]]],[\"Schindler's List (1993)\",[[\"Drama\",\"War\"]]],[\"Fight Club (1999)\",[[\"Action\",\"Crime\",\"Drama\",\"Thriller\"]]],[\"New York Ripper, The (Squartatore di New York, Lo) (1982)\",[[\"Crime\",\"Horror\",\"Mystery\",\"Thriller\"]]],[\"American Beauty (1999)\",[[\"Comedy\",\"Drama\"]]],[\"City of God (Cidade de Deus) (2002)\",[[\"Action\",\"Adventure\",\"Crime\",\"Drama\",\"Thriller\"]]],[\"Battleship (2012)\",[[\"Action\",\"Sci-Fi\",\"Thriller\",\"IMAX\"]]],[\"Take Care of My Cat (Goyangileul butaghae) (2001)\",[[\"Drama\"]]],[\"Terminator, The (1984)\",[[\"Action\",\"Sci-Fi\",\"Thriller\"]]],[\"Edge of Tomorrow (2014)\",[[\"Action\",\"Sci-Fi\",\"IMAX\"]]],[\"Forrest Gump (1994)\",[[\"Comedy\",\"Drama\",\"Romance\",\"War\"]]],[\"King's Speech, The (2010)\",[[\"Drama\"]]],[\"Life Is Beautiful (La Vita \\u00e8 bella) (1997)\",[[\"Comedy\",\"Drama\",\"Romance\",\"War\"]]],[\"Stage Fright (Deliria) (1987)\",[[\"Horror\"]]],[\"Ichi the Killer (Koroshiya 1) (2001)\",[[\"Action\",\"Comedy\",\"Crime\",\"Drama\",\"Horror\",\"Thriller\"]]],[\"Brazil (1985)\",[[\"Fantasy\",\"Sci-Fi\"]]],[\"Fountain, The (2006)\",[[\"Drama\",\"Fantasy\",\"Romance\"]]],[\"Accused, The (1988)\",[[\"Drama\"]]],[\"Time to Kill, A (1996)\",[[\"Drama\",\"Thriller\"]]],[\"Ghost Writer, The (2010)\",[[\"Drama\",\"Mystery\",\"Thriller\"]]],[\"Superbad (2007)\",[[\"Comedy\"]]],[\"American Pie (1999)\",[[\"Comedy\",\"Romance\"]]]],\"x\":[-0.11145891436473057,-0.05159974777571541,0.050577683535524116,0.06180069038734286,0.055081700433475704,-0.2379773771933058,-0.3884932645462676,0.01949463748415114,-0.14425079531141127,-0.07992076687251037,-0.13692344404974915,-0.042780788143352434,-0.18611966775062008,0.018055885685644073,0.0728889028531366,-0.11268724828778698,-0.10734288166304393,-0.1305482099618962,-0.023412941387915,-0.21919528807610236,-0.056236060705107754,-0.003162813868467191,0.057129358733553987,0.10584229473957205,0.029855208065121527,0.03770538713461148,-0.08760559268684695,0.11174992244376113,0.02945725778788186,-0.022059059647355796,-0.056231531378700045,-0.21661654241281053,-0.036555370808399254,-0.18949230783624738,-0.3082662659279973,-0.11532804584610207,0.020812852448273324],\"y\":[-0.5642809693184982,-0.7153682089355629,-0.8830472864289304,-1.0801923787836754,-0.9456715045207109,-0.8212654596433917,-0.9924061813107714,-0.27230168229827595,-0.29615174535308136,-0.3911421321670817,-0.4506610706003304,-0.6658825333485611,-0.6591232224680309,-0.617104874944953,-0.7734127233051853,-0.3847595922267506,-0.9806628094200889,-0.9751257436602312,-0.2532359502321139,-0.776939858498762,-0.6552457241369322,-0.4604468474515854,-0.2834559233400968,-0.7412845089927974,-0.8304525879567577,-0.9238152519928277,-0.941861303895216,-0.7496714088988709,-0.3706606642106116,-0.4040552277097668,-0.7170776272540581,-0.7498058423567615,-0.7292391267763401,-0.69438607798722,-0.6782180271795504,-0.36462030567001946,-0.36883792563267537]}},\"id\":\"e3a15547-3672-42d7-92ba-122c75b797cf\",\"type\":\"ColumnDataSource\"},{\"attributes\":{\"plot\":{\"id\":\"ba1780b9-9a0c-4d6c-9306-8eca13358fc8\",\"subtype\":\"Figure\",\"type\":\"Plot\"}},\"id\":\"05980ea5-7874-4e58-96df-0be4cd285441\",\"type\":\"WheelZoomTool\"},{\"attributes\":{\"callback\":null,\"end\":0.5,\"start\":-0.75},\"id\":\"d1fdf77e-80cc-4f9e-8fba-b92fd5bd45b5\",\"type\":\"Range1d\"},{\"attributes\":{\"plot\":{\"id\":\"ba1780b9-9a0c-4d6c-9306-8eca13358fc8\",\"subtype\":\"Figure\",\"type\":\"Plot\"}},\"id\":\"defa7dd1-220b-495d-97cf-3bc8b09fc7df\",\"type\":\"PanTool\"},{\"attributes\":{},\"id\":\"626af4a3-22f7-492b-9de3-f9848683ad1a\",\"type\":\"BasicTicker\"},{\"attributes\":{\"plot\":null,\"text\":\"Tomatoes score for some movies, color is white if score = 1 and black if score = 0\"},\"id\":\"da1de49d-11fc-4432-b24e-83b8fa99bc28\",\"type\":\"Title\"},{\"attributes\":{\"overlay\":{\"id\":\"e8ec50a6-f40f-449e-97ee-bf8c482f8127\",\"type\":\"BoxAnnotation\"},\"plot\":{\"id\":\"ba1780b9-9a0c-4d6c-9306-8eca13358fc8\",\"subtype\":\"Figure\",\"type\":\"Plot\"}},\"id\":\"551d073a-5d05-41eb-bd48-854abfd8f099\",\"type\":\"BoxZoomTool\"},{\"attributes\":{\"callback\":null,\"end\":0,\"start\":-1.5},\"id\":\"b144084f-9ce3-4c77-aae7-050a44445325\",\"type\":\"Range1d\"},{\"attributes\":{\"fill_alpha\":{\"value\":0.1},\"fill_color\":{\"value\":\"#1f77b4\"},\"line_alpha\":{\"value\":0.1},\"line_color\":{\"value\":\"#1f77b4\"},\"size\":{\"units\":\"screen\",\"value\":20},\"x\":{\"field\":\"x\"},\"y\":{\"field\":\"y\"}},\"id\":\"ea05fb29-adfd-4928-ac1a-994f79d9d45e\",\"type\":\"Circle\"},{\"attributes\":{\"dimension\":1,\"plot\":{\"id\":\"ba1780b9-9a0c-4d6c-9306-8eca13358fc8\",\"subtype\":\"Figure\",\"type\":\"Plot\"},\"ticker\":{\"id\":\"626af4a3-22f7-492b-9de3-f9848683ad1a\",\"type\":\"BasicTicker\"}},\"id\":\"97fcc6ef-ba25-4130-9859-19bfb6389708\",\"type\":\"Grid\"},{\"attributes\":{\"data_source\":{\"id\":\"e3a15547-3672-42d7-92ba-122c75b797cf\",\"type\":\"ColumnDataSource\"},\"glyph\":{\"id\":\"386aa178-af58-4895-a710-de34923a9f0c\",\"type\":\"Circle\"},\"hover_glyph\":null,\"nonselection_glyph\":{\"id\":\"ea05fb29-adfd-4928-ac1a-994f79d9d45e\",\"type\":\"Circle\"},\"selection_glyph\":null},\"id\":\"8c529b91-443f-4bb8-8eb9-210702fa26b0\",\"type\":\"GlyphRenderer\"},{\"attributes\":{\"below\":[{\"id\":\"7ebfed68-496b-48ae-9dbd-c5242eb90444\",\"type\":\"LinearAxis\"}],\"left\":[{\"id\":\"b156f006-ab11-4f9d-a758-211aa3122bca\",\"type\":\"LinearAxis\"}],\"renderers\":[{\"id\":\"7ebfed68-496b-48ae-9dbd-c5242eb90444\",\"type\":\"LinearAxis\"},{\"id\":\"e0151af5-b863-43ae-bcd2-199bf265a3c1\",\"type\":\"Grid\"},{\"id\":\"b156f006-ab11-4f9d-a758-211aa3122bca\",\"type\":\"LinearAxis\"},{\"id\":\"97fcc6ef-ba25-4130-9859-19bfb6389708\",\"type\":\"Grid\"},{\"id\":\"e8ec50a6-f40f-449e-97ee-bf8c482f8127\",\"type\":\"BoxAnnotation\"},{\"id\":\"8c529b91-443f-4bb8-8eb9-210702fa26b0\",\"type\":\"GlyphRenderer\"}],\"title\":{\"id\":\"da1de49d-11fc-4432-b24e-83b8fa99bc28\",\"type\":\"Title\"},\"tool_events\":{\"id\":\"6cc2258a-2398-4eaa-ac22-89f21fa3513c\",\"type\":\"ToolEvents\"},\"toolbar\":{\"id\":\"b7e5e208-ff0b-49f0-aadc-97e919db3da8\",\"type\":\"Toolbar\"},\"x_range\":{\"id\":\"d1fdf77e-80cc-4f9e-8fba-b92fd5bd45b5\",\"type\":\"Range1d\"},\"y_range\":{\"id\":\"b144084f-9ce3-4c77-aae7-050a44445325\",\"type\":\"Range1d\"}},\"id\":\"ba1780b9-9a0c-4d6c-9306-8eca13358fc8\",\"subtype\":\"Figure\",\"type\":\"Plot\"},{\"attributes\":{\"plot\":{\"id\":\"ba1780b9-9a0c-4d6c-9306-8eca13358fc8\",\"subtype\":\"Figure\",\"type\":\"Plot\"}},\"id\":\"6a0a78a4-f318-46de-be32-bad0149cb532\",\"type\":\"ResetTool\"},{\"attributes\":{\"fill_color\":{\"field\":\"fill_color\"},\"line_color\":{\"value\":\"#1f77b4\"},\"size\":{\"units\":\"screen\",\"value\":20},\"x\":{\"field\":\"x\"},\"y\":{\"field\":\"y\"}},\"id\":\"386aa178-af58-4895-a710-de34923a9f0c\",\"type\":\"Circle\"},{\"attributes\":{\"active_drag\":\"auto\",\"active_scroll\":\"auto\",\"active_tap\":\"auto\",\"tools\":[{\"id\":\"defa7dd1-220b-495d-97cf-3bc8b09fc7df\",\"type\":\"PanTool\"},{\"id\":\"05980ea5-7874-4e58-96df-0be4cd285441\",\"type\":\"WheelZoomTool\"},{\"id\":\"551d073a-5d05-41eb-bd48-854abfd8f099\",\"type\":\"BoxZoomTool\"},{\"id\":\"6a0a78a4-f318-46de-be32-bad0149cb532\",\"type\":\"ResetTool\"},{\"id\":\"7442ebda-ba54-4dd0-88d3-3289bf165079\",\"type\":\"HoverTool\"},{\"id\":\"3416c1a6-2340-4c23-a17c-fcd90551667a\",\"type\":\"SaveTool\"}]},\"id\":\"b7e5e208-ff0b-49f0-aadc-97e919db3da8\",\"type\":\"Toolbar\"},{\"attributes\":{},\"id\":\"6cc2258a-2398-4eaa-ac22-89f21fa3513c\",\"type\":\"ToolEvents\"},{\"attributes\":{\"plot\":{\"id\":\"ba1780b9-9a0c-4d6c-9306-8eca13358fc8\",\"subtype\":\"Figure\",\"type\":\"Plot\"}},\"id\":\"3416c1a6-2340-4c23-a17c-fcd90551667a\",\"type\":\"SaveTool\"},{\"attributes\":{},\"id\":\"2aa5aa6d-86a4-4a01-981c-cf98a7ac227a\",\"type\":\"BasicTicker\"},{\"attributes\":{},\"id\":\"e47db350-1202-46a7-802d-ae719a5eccc4\",\"type\":\"BasicTickFormatter\"},{\"attributes\":{\"callback\":null,\"plot\":{\"id\":\"ba1780b9-9a0c-4d6c-9306-8eca13358fc8\",\"subtype\":\"Figure\",\"type\":\"Plot\"},\"tooltips\":[[\"name\",\"@label\"]]},\"id\":\"7442ebda-ba54-4dd0-88d3-3289bf165079\",\"type\":\"HoverTool\"},{\"attributes\":{\"bottom_units\":\"screen\",\"fill_alpha\":{\"value\":0.5},\"fill_color\":{\"value\":\"lightgrey\"},\"left_units\":\"screen\",\"level\":\"overlay\",\"line_alpha\":{\"value\":1.0},\"line_color\":{\"value\":\"black\"},\"line_dash\":[4,4],\"line_width\":{\"value\":2},\"plot\":null,\"render_mode\":\"css\",\"right_units\":\"screen\",\"top_units\":\"screen\"},\"id\":\"e8ec50a6-f40f-449e-97ee-bf8c482f8127\",\"type\":\"BoxAnnotation\"},{\"attributes\":{\"formatter\":{\"id\":\"e47db350-1202-46a7-802d-ae719a5eccc4\",\"type\":\"BasicTickFormatter\"},\"plot\":{\"id\":\"ba1780b9-9a0c-4d6c-9306-8eca13358fc8\",\"subtype\":\"Figure\",\"type\":\"Plot\"},\"ticker\":{\"id\":\"626af4a3-22f7-492b-9de3-f9848683ad1a\",\"type\":\"BasicTicker\"}},\"id\":\"b156f006-ab11-4f9d-a758-211aa3122bca\",\"type\":\"LinearAxis\"},{\"attributes\":{\"plot\":{\"id\":\"ba1780b9-9a0c-4d6c-9306-8eca13358fc8\",\"subtype\":\"Figure\",\"type\":\"Plot\"},\"ticker\":{\"id\":\"2aa5aa6d-86a4-4a01-981c-cf98a7ac227a\",\"type\":\"BasicTicker\"}},\"id\":\"e0151af5-b863-43ae-bcd2-199bf265a3c1\",\"type\":\"Grid\"},{\"attributes\":{},\"id\":\"93e0592a-febd-41fb-aed3-a4d8e10888e2\",\"type\":\"BasicTickFormatter\"},{\"attributes\":{\"formatter\":{\"id\":\"93e0592a-febd-41fb-aed3-a4d8e10888e2\",\"type\":\"BasicTickFormatter\"},\"plot\":{\"id\":\"ba1780b9-9a0c-4d6c-9306-8eca13358fc8\",\"subtype\":\"Figure\",\"type\":\"Plot\"},\"ticker\":{\"id\":\"2aa5aa6d-86a4-4a01-981c-cf98a7ac227a\",\"type\":\"BasicTicker\"}},\"id\":\"7ebfed68-496b-48ae-9dbd-c5242eb90444\",\"type\":\"LinearAxis\"}],\"root_ids\":[\"ba1780b9-9a0c-4d6c-9306-8eca13358fc8\"]},\"title\":\"Bokeh Application\",\"version\":\"0.12.2\"}};\n",
       "            var render_items = [{\"docid\":\"143e2a2d-b825-48bc-8884-613c8d68575b\",\"elementid\":\"e7a05174-5f01-44a3-a827-d81c613e7897\",\"modelid\":\"ba1780b9-9a0c-4d6c-9306-8eca13358fc8\"}];\n",
       "            \n",
       "            Bokeh.embed.embed_items(docs_json, render_items);\n",
       "        });\n",
       "      },\n",
       "      function(Bokeh) {\n",
       "      }\n",
       "    ];\n",
       "  \n",
       "    function run_inline_js() {\n",
       "      \n",
       "      if ((window.Bokeh !== undefined) || (force === \"1\")) {\n",
       "        for (var i = 0; i < inline_js.length; i++) {\n",
       "          inline_js[i](window.Bokeh);\n",
       "        }if (force === \"1\") {\n",
       "          display_loaded();\n",
       "        }} else if (Date.now() < window._bokeh_timeout) {\n",
       "        setTimeout(run_inline_js, 100);\n",
       "      } else if (!window._bokeh_failed_load) {\n",
       "        console.log(\"Bokeh: BokehJS failed to load within specified timeout.\");\n",
       "        window._bokeh_failed_load = true;\n",
       "      } else if (!force) {\n",
       "        var cell = $(\"#e7a05174-5f01-44a3-a827-d81c613e7897\").parents('.cell').data().cell;\n",
       "        cell.output_area.append_execute_result(NB_LOAD_WARNING)\n",
       "      }\n",
       "  \n",
       "    }\n",
       "  \n",
       "    if (window._bokeh_is_loading === 0) {\n",
       "      console.log(\"Bokeh: BokehJS loaded, going straight to plotting\");\n",
       "      run_inline_js();\n",
       "    } else {\n",
       "      load_libs(js_urls, function() {\n",
       "        console.log(\"Bokeh: BokehJS plotting callback run at\", now());\n",
       "        run_inline_js();\n",
       "      });\n",
       "    }\n",
       "  }(this));\n",
       "</script>"
      ]
     },
     "metadata": {},
     "output_type": "display_data"
    }
   ],
   "source": [
    "def movie_visualization(matrix, sel_movs):\n",
    "    x, mean_x, std_x = standardize(matrix)\n",
    "    covariance_matrix, eigenvalues, eigenvectors = eigens(x)\n",
    "    principle_directions = eigenvectors[:2]\n",
    "    projection = principle_directions @ matrix.T\n",
    "    movies_to_plot = [(projection.T[movieId2index[x[0]]],x[2]) for x in sel_movs]\n",
    "    movie2genres = []\n",
    "    for movie in sel_movs:\n",
    "        genres = data_.filter(lambda x : x['movieId']==movie[0]).map(lambda x : x['genres']).collect()\n",
    "        movie2genres.append((movie[1],genres))\n",
    "    x = [x[0][0] for x in movies_to_plot]\n",
    "    y = [x[0][1] for x in movies_to_plot]\n",
    "    colors = [x[1] for x in movies_to_plot]\n",
    "    visualization(x, y, movie2genres, colors)\n",
    "movie_visualization(matrix, sel_movs)"
   ]
  },
  {
   "cell_type": "markdown",
   "metadata": {
    "collapsed": true
   },
   "source": [
    "##### PCA separates movies with low,  from movies with high Tomatoes score. Hence movies are grouped together according to their Tomatoes score. \n",
    "\n"
   ]
  },
  {
   "cell_type": "code",
   "execution_count": null,
   "metadata": {
    "collapsed": true
   },
   "outputs": [],
   "source": []
  }
 ],
 "metadata": {
  "anaconda-cloud": {},
  "kernelspec": {
   "display_name": "Python 3",
   "language": "python",
   "name": "python3"
  },
  "language_info": {
   "codemirror_mode": {
    "name": "ipython",
    "version": 3
   },
   "file_extension": ".py",
   "mimetype": "text/x-python",
   "name": "python",
   "nbconvert_exporter": "python",
   "pygments_lexer": "ipython3",
   "version": "3.5.2"
  }
 },
 "nbformat": 4,
 "nbformat_minor": 1
}
