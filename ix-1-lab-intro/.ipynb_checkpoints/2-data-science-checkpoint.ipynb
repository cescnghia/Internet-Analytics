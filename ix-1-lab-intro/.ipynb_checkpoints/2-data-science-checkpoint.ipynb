{
 "cells": [
  {
   "cell_type": "markdown",
   "metadata": {
    "deletable": true,
    "editable": true
   },
   "source": [
    "# Data Science\n",
    "\n",
    "Python is the [language of choice](https://www.quora.com/Why-is-Python-a-language-of-choice-for-data-scientists) for [Data Science](https://en.wikipedia.org/wiki/Data_science). In fact, there exists tons of powerful and well-maintained libraries to support you. We will introduce the most useful ones in this notebook."
   ]
  },
  {
   "cell_type": "markdown",
   "metadata": {
    "deletable": true,
    "editable": true
   },
   "source": [
    "## Numpy\n",
    "\n",
    "If you know Matlab, [Numpy](http://www.numpy.org) provides similar ease of use for $N$-dimensional array operations (slicing, dicing, mapping, ...). Moreover, it provides tons of tools for linear algebra, probability and statistics. You really cannot do scientific computing without `numpy`!"
   ]
  },
  {
   "cell_type": "code",
   "execution_count": 2,
   "metadata": {
    "collapsed": true,
    "deletable": true,
    "editable": true
   },
   "outputs": [],
   "source": [
    "import numpy as np"
   ]
  },
  {
   "cell_type": "markdown",
   "metadata": {
    "deletable": true,
    "editable": true
   },
   "source": [
    "### Arrays\n",
    "\n",
    "Numpy `array`s are upgraded versions of Python `list`s. They are the foundations of the library and come with a bunch of methods that allow various operations."
   ]
  },
  {
   "cell_type": "code",
   "execution_count": 3,
   "metadata": {
    "collapsed": false,
    "deletable": true,
    "editable": true
   },
   "outputs": [
    {
     "name": "stdout",
     "output_type": "stream",
     "text": [
      "[[1 3 5]\n",
      " [2 4 6]]\n",
      "The shape of this array is: (2, 3)\n",
      "The first element is 1\n",
      "The first column is [1 2]\n",
      "The third row is [2 4 6]\n"
     ]
    }
   ],
   "source": [
    "numpy_array = np.array([[1, 3, 5], [2, 4, 6]])\n",
    "print(numpy_array)\n",
    "print(\"The shape of this array is:\", numpy_array.shape)\n",
    "first_element = numpy_array[0, 0]\n",
    "first_column = numpy_array[:, 0]\n",
    "second_row = numpy_array[1, :]\n",
    "print(\"The first element is\", first_element)\n",
    "print(\"The first column is\", first_column)\n",
    "print(\"The third row is\", second_row)"
   ]
  },
  {
   "cell_type": "markdown",
   "metadata": {
    "deletable": true,
    "editable": true
   },
   "source": [
    "Numpy arrays behave like \"normal\" numbers, meaning that operations are performed **element-wise**."
   ]
  },
  {
   "cell_type": "code",
   "execution_count": 4,
   "metadata": {
    "collapsed": false,
    "deletable": true,
    "editable": true
   },
   "outputs": [
    {
     "name": "stdout",
     "output_type": "stream",
     "text": [
      "[ 1.  1.  1.  1.  1.  1.  1.  1.  1.  1.]\n",
      "[ 2.  2.  2.  2.  2.  2.  2.  2.  2.  2.]\n"
     ]
    }
   ],
   "source": [
    "zeros = np.zeros(10)\n",
    "ones = np.ones(10)\n",
    "print(zeros + ones)\n",
    "print(np.exp(zeros) + ones)"
   ]
  },
  {
   "cell_type": "markdown",
   "metadata": {
    "deletable": true,
    "editable": true
   },
   "source": [
    "It is then easy to create random vectors and perform linear algebra operations, such as $A\\mathbf{b}$ or $\\mathbf{x} = A^{-1}\\mathbf{b}$. "
   ]
  },
  {
   "cell_type": "code",
   "execution_count": 5,
   "metadata": {
    "collapsed": false,
    "deletable": true,
    "editable": true
   },
   "outputs": [
    {
     "name": "stdout",
     "output_type": "stream",
     "text": [
      "A =\n",
      " [[9 8 3 8 8]\n",
      " [6 0 8 8 1]\n",
      " [2 9 9 0 2]\n",
      " [7 8 4 0 2]\n",
      " [6 3 3 4 4]]\n",
      "b =\n",
      " [[6]\n",
      " [7]\n",
      " [6]\n",
      " [9]\n",
      " [2]]\n",
      "The vectorial product Ab is\n",
      " [[216]\n",
      " [158]\n",
      " [133]\n",
      " [126]\n",
      " [119]]\n",
      "The solution to Ax = b is x =\n",
      " [[ 0.54765432]\n",
      " [ 1.34074074]\n",
      " [-0.32049383]\n",
      " [ 1.05209877]\n",
      " [-2.13876543]]\n"
     ]
    }
   ],
   "source": [
    "A = np.random.randint(low=0, high=10, size=(5, 5))\n",
    "b = np.random.randint(low=0, high=10, size=(5, 1))\n",
    "print(\"A =\\n\", A)\n",
    "print(\"b =\\n\", b)\n",
    "print(\"The vectorial product Ab is\\n\", A.dot(b))\n",
    "print(\"The solution to Ax = b is x =\\n\", np.linalg.solve(A, b))"
   ]
  },
  {
   "cell_type": "markdown",
   "metadata": {
    "deletable": true,
    "editable": true
   },
   "source": [
    "Try to compute the mean and the variance of the vector $\\mathbf{b}$.\n",
    "\n",
    "*Hint:* have a look at the [documentation](https://docs.scipy.org/doc/numpy/reference/generated/numpy.mean.html)."
   ]
  },
  {
   "cell_type": "code",
   "execution_count": 6,
   "metadata": {
    "collapsed": false,
    "deletable": true,
    "editable": true
   },
   "outputs": [
    {
     "name": "stdout",
     "output_type": "stream",
     "text": [
      "Mean: 6.0\n",
      "Variance: 5.2\n"
     ]
    }
   ],
   "source": [
    "print(\"Mean:\", np.mean(b))\n",
    "print(\"Variance:\", np.var(b))"
   ]
  },
  {
   "cell_type": "markdown",
   "metadata": {
    "deletable": true,
    "editable": true
   },
   "source": [
    "Something that you will probably need at some point is to control the [random state](https://docs.scipy.org/doc/numpy/reference/generated/numpy.random.RandomState.html#numpy.random.RandomState) of numpy. For instance if you are randomly initializing some parameters, but you would like to compare different runs of the same piece of code, you can fix the *seed* for the random generator. This will still produce random numbers, but each time the same! We say it is some *predictable randomness*."
   ]
  },
  {
   "cell_type": "code",
   "execution_count": 7,
   "metadata": {
    "collapsed": false,
    "deletable": true,
    "editable": true
   },
   "outputs": [
    {
     "name": "stdout",
     "output_type": "stream",
     "text": [
      "[2 8 4 9 1 6 7 3 0 5]\n",
      "[2 8 4 9 1 6 7 3 0 5]\n",
      "[3 5 1 2 9 8 0 6 7 4]\n"
     ]
    }
   ],
   "source": [
    "# Fix the seed\n",
    "np.random.seed(0)\n",
    "print(np.random.permutation(10))\n",
    "# Reset the seed\n",
    "np.random.seed(0)\n",
    "print(np.random.permutation(10))\n",
    "# The two above permutations are the same\n",
    "# The sequence of the random generator is now initialized\n",
    "print(np.random.permutation(10))"
   ]
  },
  {
   "cell_type": "markdown",
   "metadata": {
    "deletable": true,
    "editable": true
   },
   "source": [
    "## Matplotlib\n",
    "\n",
    "[Matpotlib](http://matplotlib.org/) is the most famous library to plot data. It is sometimes tedious to use, yet very powerful. It becomes however very interesting when combined with notebooks like this as you have the possibility to display your plot *inline*. "
   ]
  },
  {
   "cell_type": "code",
   "execution_count": 8,
   "metadata": {
    "collapsed": false,
    "deletable": true,
    "editable": true
   },
   "outputs": [],
   "source": [
    "%matplotlib inline\n",
    "import matplotlib.pyplot as plt"
   ]
  },
  {
   "cell_type": "markdown",
   "metadata": {
    "deletable": true,
    "editable": true
   },
   "source": [
    "We show here an example of three basic functions plotted on the same graph. As you see, it is quite verbose to obtain a simple plot like this. Try to play with the different options of the `plot` function: change the color of the lines, their width, the markers, ...\n",
    "\n",
    "*Hint:* http://matplotlib.org/api/pyplot_api.html?highlight=plot#matplotlib.pyplot.plot"
   ]
  },
  {
   "cell_type": "code",
   "execution_count": 9,
   "metadata": {
    "collapsed": false,
    "deletable": true,
    "editable": true
   },
   "outputs": [
    {
     "data": {
      "image/png": "[encoded data removed]",
      "text/plain": [
       "<matplotlib.figure.Figure at 0x11f1e6eb8>"
      ]
     },
     "metadata": {},
     "output_type": "display_data"
    }
   ],
   "source": [
    "x = np.linspace(start=0.01, stop=10, num=1000) # all values of x form 0 to 10\n",
    "# Generate some data\n",
    "sin = np.sin(x)\n",
    "lin = -4 + x\n",
    "log = np.log(x)\n",
    "# Create a new figure\n",
    "plt.figure(figsize=(8, 6))\n",
    "# Plot the data\n",
    "plt.plot(x, sin)\n",
    "plt.plot(x, lin)\n",
    "plt.plot(x, log)\n",
    "# Customize the plot\n",
    "plt.title(\"Some functions across time\", fontsize=16)\n",
    "plt.xlabel(\"x\", fontsize=20)\n",
    "plt.ylabel(\"f(x)\", fontsize=20)\n",
    "plt.legend([\"sinusoid\", \"linear\", \"logarithm\"], loc='lower right', fontsize=10)\n",
    "plt.grid()\n",
    "# Display the result\n",
    "plt.show()"
   ]
  },
  {
   "cell_type": "markdown",
   "metadata": {
    "deletable": true,
    "editable": true
   },
   "source": [
    "*Note*: in your reports and papers (at university and later during your engineering carreer), whenever displaying a plot, **always** set the\n",
    "\n",
    "* title\n",
    "* x and y labels\n",
    "* legend\n",
    "* caption\n",
    "\n",
    "Be also sure that the font is big enough to be easily read by anyone with normal vision, and that each line has a different color (and ideally, markers). This a some very good habit to aquire, and one that will put you ahead of most of your fellow students, colleagues and competitors."
   ]
  },
  {
   "cell_type": "markdown",
   "metadata": {
    "deletable": true,
    "editable": true
   },
   "source": [
    "## NetworkX\n",
    "\n",
    "[NetworkX](https://networkx.github.io) is a Python library for the creation, manipulation, and study of the structure, dynamics, and functions of networks. It provides a lot of functions to compute metrics from networks and to visualze them."
   ]
  },
  {
   "cell_type": "code",
   "execution_count": 10,
   "metadata": {
    "collapsed": false,
    "deletable": true,
    "editable": true
   },
   "outputs": [],
   "source": [
    "import networkx as nx"
   ]
  },
  {
   "cell_type": "markdown",
   "metadata": {
    "deletable": true,
    "editable": true
   },
   "source": [
    "You can easily load networks from different sources, for instance using an [adjacency list](https://en.wikipedia.org/wiki/Adjacency_list)."
   ]
  },
  {
   "cell_type": "code",
   "execution_count": 11,
   "metadata": {
    "collapsed": false,
    "deletable": true,
    "editable": true
   },
   "outputs": [],
   "source": [
    "G = nx.read_adjlist('data/adjacency_list.nx')"
   ]
  },
  {
   "cell_type": "markdown",
   "metadata": {
    "deletable": true,
    "editable": true
   },
   "source": [
    "Visualize it by `draw`ing it."
   ]
  },
  {
   "cell_type": "code",
   "execution_count": 12,
   "metadata": {
    "collapsed": false,
    "deletable": true,
    "editable": true
   },
   "outputs": [
    {
     "data": {
      "image/png": "[encoded data removed]",
      "text/plain": [
       "<matplotlib.figure.Figure at 0x11ea4ccf8>"
      ]
     },
     "metadata": {},
     "output_type": "display_data"
    }
   ],
   "source": [
    "nx.draw_networkx(G)\n",
    "plt.axis('off'); # Makes the plot slightly nicer"
   ]
  },
  {
   "cell_type": "markdown",
   "metadata": {
    "deletable": true,
    "editable": true
   },
   "source": [
    "You can add nodes."
   ]
  },
  {
   "cell_type": "code",
   "execution_count": 13,
   "metadata": {
    "collapsed": false,
    "deletable": true,
    "editable": true
   },
   "outputs": [
    {
     "data": {
      "image/png": "[encoded data removed]",
      "text/plain": [
       "<matplotlib.figure.Figure at 0x11eccf4e0>"
      ]
     },
     "metadata": {},
     "output_type": "display_data"
    }
   ],
   "source": [
    "G.add_node('g')\n",
    "\n",
    "nx.draw_networkx(G)\n",
    "plt.axis('off');"
   ]
  },
  {
   "cell_type": "markdown",
   "metadata": {
    "deletable": true,
    "editable": true
   },
   "source": [
    "And edges."
   ]
  },
  {
   "cell_type": "code",
   "execution_count": 14,
   "metadata": {
    "collapsed": false,
    "deletable": true,
    "editable": true
   },
   "outputs": [
    {
     "data": {
      "image/png": "[encoded data removed]",
      "text/plain": [
       "<matplotlib.figure.Figure at 0x11ed42f98>"
      ]
     },
     "metadata": {},
     "output_type": "display_data"
    }
   ],
   "source": [
    "G.add_edge('g', 'a')\n",
    "G.add_edge('g', 'f')\n",
    "\n",
    "nx.draw_networkx(G)\n",
    "plt.axis('off');"
   ]
  },
  {
   "cell_type": "markdown",
   "metadata": {
    "deletable": true,
    "editable": true
   },
   "source": [
    "A lot of different [algorithms](https://networkx.github.io/documentation/networkx-1.10/reference/algorithms.html) on graphs are already implemented and ready to use."
   ]
  },
  {
   "cell_type": "code",
   "execution_count": 15,
   "metadata": {
    "collapsed": false,
    "deletable": true,
    "editable": true
   },
   "outputs": [
    {
     "name": "stdout",
     "output_type": "stream",
     "text": [
      "Diameter = 3\n",
      "Shortest path between node g and node d: ['g', 'a', 'b', 'd']\n",
      "Cliques of three nodes and more:\n",
      "['g', 'f', 'a']\n",
      "['e', 'c', 'f']\n"
     ]
    }
   ],
   "source": [
    "print(\"Diameter =\", nx.diameter(G))\n",
    "print(\"Shortest path between node g and node d:\", nx.shortest_path(G, 'g', 'd'))\n",
    "print(\"Cliques of three nodes and more:\")\n",
    "for clique in nx.enumerate_all_cliques(G):\n",
    "    if len(clique) > 2:  # Only clique of at least 3 nodes\n",
    "        print(clique)"
   ]
  },
  {
   "cell_type": "markdown",
   "metadata": {
    "deletable": true,
    "editable": true
   },
   "source": [
    "You can find more examples of NetworkX here: https://networkx.readthedocs.io/en/stable/examples/index.html."
   ]
  },
  {
   "cell_type": "markdown",
   "metadata": {
    "deletable": true,
    "editable": true
   },
   "source": [
    "## More Libraries\n",
    "\n",
    "You have seen now the required libraries to follow this class. We present here some optional ones, but ones that you will most likely make use of if you follow the path of data science, machine learning, statistics and/or data mining.\n",
    "\n",
    "* [Pandas](http://pandas.pydata.org): consolidate data from various sources, move them around and analyze them easily\n",
    "* [SciPy](http://www.scipy.org): extends numpy with more scientific computing tools (such as probability distributions, sparse matrices, optimization routines, ...)\n",
    "* [scikit-learn](http://scikit-learn.org/stable/): state-of-the-art machine learning algorithms\n",
    "* [TensorFlow](https://www.tensorflow.org): Google's machine learning library, focusing of deep learning, and based on computational graphs \n",
    "* [Bokeh](http://bokeh.pydata.org/en/latest/): more advanced, interactive visualization"
   ]
  },
  {
   "cell_type": "markdown",
   "metadata": {
    "deletable": true,
    "editable": true
   },
   "source": [
    "## Exercises\n",
    "\n",
    "Now, your turn to put your hands in the code!"
   ]
  },
  {
   "cell_type": "markdown",
   "metadata": {
    "deletable": true,
    "editable": true
   },
   "source": [
    "### Linear Algebra: Matrix Standardization\n",
    "\n",
    "The process of *standardization* is a very useful preprocessing operation that is even mandatory for some techniques (you will see that later). Formally, a matrix $X$ of size $N \\times M$ is said to be *standardized* if its columns have $0$ mean and unitary standard deviation. Note that, when dealing with data, the number of data samples is commonly denoted by $N$ and the number of features of each sample is denoted by $M$. \n",
    "\n",
    "In this exercise, you have scraped data from the Swiss Confederation website and created a matrix of vote results. More precisely, every row in the matrix corresponds to a federal vote (popular initiative or referendum) and the columns are some features related to the municipalities. There are $N=307$ votes and $M=2289$ features. You heard that Switzerland has distinct voting patterns according to the different languages and would like to verify this hypothesis with a data-driven approach. A common procedure is to perform [principal component analysis](https://en.wikipedia.org/wiki/Principal_component_analysis) (more on that in a few weeks) for which the data must be standardized. \n",
    "\n",
    "1. Try to understand why we standardize **column-wise** and what it would mean to standardize row-wise. \n",
    "2. Standardize the matrix X.\n",
    "3. Verify your code by interpreting the result.\n",
    "\n"
   ]
  },
  {
   "cell_type": "code",
   "execution_count": 16,
   "metadata": {
    "collapsed": false,
    "deletable": true,
    "editable": true
   },
   "outputs": [],
   "source": [
    "X = np.load('data/votes-data.npy')"
   ]
  },
  {
   "cell_type": "code",
   "execution_count": 17,
   "metadata": {
    "collapsed": false,
    "deletable": true,
    "editable": true
   },
   "outputs": [
    {
     "name": "stdout",
     "output_type": "stream",
     "text": [
      "2289\n"
     ]
    }
   ],
   "source": [
    "# Put your code to standardize the data here\n",
    "row, col = X.shape\n",
    "print (col)\n",
    "for i in range (col):\n",
    "    mean = np.mean(X[:,i])\n",
    "    std  = np.std(X[:,i])\n",
    "    X[:,i] = X[:,i] - mean\n",
    "    X[:,i] = X[:,i] / std\n"
   ]
  },
  {
   "cell_type": "markdown",
   "metadata": {
    "deletable": true,
    "editable": true
   },
   "source": [
    "The following method takes your preprocesed matrix `X` as argument and displays a projection of the the data on the two first eigen vectors. \n",
    "\n",
    "- Do you see any interesting pattern?\n",
    "\n",
    "*Hint:* You should be able to obtain the same image as below:\n",
    "\n",
    "![Roestigraben pattern](images/roestigraben.png \"Plot to obtain\")\n",
    "\n",
    "Add color to your plot by setting `with_color=True` in `extract_voting_pattern`.\n",
    "\n",
    "- Does it confirm your intuition?"
   ]
  },
  {
   "cell_type": "code",
   "execution_count": 18,
   "metadata": {
    "collapsed": false,
    "deletable": true,
    "editable": true
   },
   "outputs": [
    {
     "data": {
      "image/png": "[encoded data removed]",
      "text/plain": [
       "<matplotlib.figure.Figure at 0x10b5c8208>"
      ]
     },
     "metadata": {},
     "output_type": "display_data"
    }
   ],
   "source": [
    "from modules.politics import extract_voting_pattern\n",
    "\n",
    "extract_voting_pattern(X)\n",
    "plt.show()"
   ]
  },
  {
   "cell_type": "markdown",
   "metadata": {
    "deletable": true,
    "editable": true
   },
   "source": [
    "### Probabilities: Histogram of a distribution\n",
    "\n",
    "We created three vectors of random samples.\n",
    "\n",
    "- Can you guess from which distributions they have been generated?\n",
    "\n",
    "*Hint*: recall that a [histogram](https://en.wikipedia.org/wiki/Histogram) represents a distribution."
   ]
  },
  {
   "cell_type": "code",
   "execution_count": 19,
   "metadata": {
    "collapsed": true,
    "deletable": true,
    "editable": true,
    "scrolled": true
   },
   "outputs": [],
   "source": [
    "distribution1 = np.load('data/distribution1.npy')\n",
    "distribution2 = np.load('data/distribution2.npy')\n",
    "distribution3 = np.load('data/distribution3.npy')"
   ]
  },
  {
   "cell_type": "markdown",
   "metadata": {
    "deletable": true,
    "editable": true
   },
   "source": [
    "Use the following cell:"
   ]
  },
  {
   "cell_type": "code",
   "execution_count": 23,
   "metadata": {
    "collapsed": false
   },
   "outputs": [
    {
     "data": {
      "text/plain": [
       "(array([  421.,  2297.,  1730.,  3210.,   993.,  1026.,   270.,    31.,\n",
       "           18.,     4.]),\n",
       " array([  0. ,   1.6,   3.2,   4.8,   6.4,   8. ,   9.6,  11.2,  12.8,\n",
       "         14.4,  16. ]),\n",
       " <a list of 10 Patch objects>)"
      ]
     },
     "execution_count": 23,
     "metadata": {},
     "output_type": "execute_result"
    },
    {
     "data": {
      "image/png": "[encoded data removed]",
      "text/plain": [
       "<matplotlib.figure.Figure at 0x10b5e4358>"
      ]
     },
     "metadata": {},
     "output_type": "display_data"
    }
   ],
   "source": [
    "import pylab as plt\n",
    "#fig1 = plt.figure() #normal distribution\n",
    "#fig1 = plt.figure() #uniform random\n",
    "fig1 = plt.figure() \n",
    "#plt.hist([distribution1])\n",
    "#plt.hist([distribution2])\n",
    "plt.hist([distribution3])\n"
   ]
  },
  {
   "cell_type": "markdown",
   "metadata": {},
   "source": [
    "## Going further\n",
    "\n",
    "If you want to learn more about Python for Data Science, the full O'Reilly's [Python Data Science Handbook](https://github.com/jakevdp/PythonDataScienceHandbook) book is available for free in the form of...notebooks on GitHub. A great ressource if you want to continue in this field!"
   ]
  },
  {
   "cell_type": "code",
   "execution_count": null,
   "metadata": {
    "collapsed": true
   },
   "outputs": [],
   "source": []
  }
 ],
 "metadata": {
  "anaconda-cloud": {},
  "kernelspec": {
   "display_name": "Python [Root]",
   "language": "python",
   "name": "Python [Root]"
  },
  "language_info": {
   "codemirror_mode": {
    "name": "ipython",
    "version": 3
   },
   "file_extension": ".py",
   "mimetype": "text/x-python",
   "name": "python",
   "nbconvert_exporter": "python",
   "pygments_lexer": "ipython3",
   "version": "3.5.2"
  }
 },
 "nbformat": 4,
 "nbformat_minor": 2
}
