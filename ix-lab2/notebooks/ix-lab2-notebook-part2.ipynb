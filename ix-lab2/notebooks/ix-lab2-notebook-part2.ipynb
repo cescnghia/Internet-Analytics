{
 "cells": [
  {
   "cell_type": "markdown",
   "metadata": {},
   "source": [
    "# Networks: structure, evolution & processes\n",
    "**Internet Analytics - Lab 2**\n",
    "\n",
    "---\n",
    "\n",
    "**Group:** *N*\n",
    "\n",
    "**Names:**\n",
    "\n",
    "* *Sandra Djambazovska(224638)*\n",
    "* *Anh Nghia Khau(223613)*\n",
    "\n",
    "---\n",
    "\n",
    "#### Instructions\n",
    "\n",
    "*This is a template for part 2 of the lab. Clearly write your answers, comments and interpretations in Markodown cells. Don't forget that you can add $\\LaTeX$ equations in these cells. Feel free to add or remove any cell.*\n",
    "\n",
    "*Please properly comment your code. Code readability will be considered for grading. To avoid long cells of codes in the notebook, you can also embed long python functions and classes in a separate module. Don’t forget to hand in your module if that is the case. In multiple exercises, you are required to come up with your own method to solve various problems. Be creative and clearly motivate and explain your methods. Creativity and clarity will be considered for grading.*"
   ]
  },
  {
   "cell_type": "markdown",
   "metadata": {},
   "source": [
    "---\n",
    "\n",
    "## 2.2 Network sampling\n",
    "\n",
    "#### Exercise 2.7: Random walk on the Facebook network"
   ]
  },
  {
   "cell_type": "code",
   "execution_count": 1,
   "metadata": {
    "collapsed": false
   },
   "outputs": [],
   "source": [
    "import requests\n",
    "import numpy as np\n",
    "URL_TEMPLATE = 'http://iccluster118.iccluster.epfl.ch:5050/v1.0/facebook?user={user_id}'\n",
    "s = 'f30ff3966f16ed62f5165a229a19b319'\n",
    "N = 10000"
   ]
  },
  {
   "cell_type": "code",
   "execution_count": 2,
   "metadata": {
    "collapsed": true
   },
   "outputs": [],
   "source": [
    "def naive_solution(T, s):\n",
    "    next_ = s\n",
    "    i = 0\n",
    "    acc = 0\n",
    "    \n",
    "    while (i < T):\n",
    "        if (i % 1000 == 0 and i != 0):\n",
    "            print('Naive solution for avg age at iter {it} is {a}'.format(it = i, a = float(acc)/i))\n",
    "        data = requests.get((URL_TEMPLATE.format(user_id=next_))).json()\n",
    "        friends = data['friends']\n",
    "        acc += data['age']\n",
    "        next_ = friends[np.random.randint(len(friends))]\n",
    "        i += 1\n",
    "    return float(acc)/i"
   ]
  },
  {
   "cell_type": "code",
   "execution_count": null,
   "metadata": {
    "collapsed": false
   },
   "outputs": [],
   "source": [
    "print (naive_solution(N, s))"
   ]
  },
  {
   "cell_type": "markdown",
   "metadata": {},
   "source": [
    "The estimated age is XXX after 10000 iterations."
   ]
  },
  {
   "cell_type": "markdown",
   "metadata": {},
   "source": [
    "#### Exercise 2.8"
   ]
  },
  {
   "cell_type": "code",
   "execution_count": 26,
   "metadata": {
    "collapsed": true
   },
   "outputs": [],
   "source": [
    "def randomwalk_solution(T, s):\n",
    "    numerator = 0.0\n",
    "    denumerator = 0.0\n",
    "    i = 0\n",
    "\n",
    "    while (i < T):\n",
    "        if (i % 1000 == 0 and i != 0):\n",
    "            print('Random wark solution for avg age at iter {it} is {a}'.format(it = i, a = numerator/denumerator))\n",
    "        data = requests.get((URL_TEMPLATE.format(user_id=s))).json()\n",
    "        friends = data['friends']\n",
    "        outDe =  len(friends)\n",
    "        numerator += float(data['age'])/outDe\n",
    "        denumerator += 1.0/outDe              \n",
    "        i +=1        \n",
    "        s = friends[np.random.randint(len(friends))]\n",
    "    return numerator/denumerator\n"
   ]
  },
  {
   "cell_type": "code",
   "execution_count": 27,
   "metadata": {
    "collapsed": false
   },
   "outputs": [
    {
     "name": "stdout",
     "output_type": "stream",
     "text": [
      "Random wark solution for avg age at iter 1000 is 42.58026429417872\n",
      "Random wark solution for avg age at iter 2000 is 43.41714851850858\n",
      "Random wark solution for avg age at iter 3000 is 43.33376543321675\n",
      "Random wark solution for avg age at iter 4000 is 43.53909998704922\n",
      "Random wark solution for avg age at iter 5000 is 44.341070250513745\n",
      "Random wark solution for avg age at iter 6000 is 44.374082984518004\n",
      "Random wark solution for avg age at iter 7000 is 44.14930253475083\n",
      "Random wark solution for avg age at iter 8000 is 43.85392283378637\n",
      "Random wark solution for avg age at iter 9000 is 43.80545715935731\n",
      "43.79057838854075\n"
     ]
    }
   ],
   "source": [
    "print (randomwalk_solution(N, s))"
   ]
  },
  {
   "cell_type": "markdown",
   "metadata": {
    "collapsed": true
   },
   "source": [
    "1. Our estimation is far, far from the true average age.\n",
    "\n",
    "2. Because we always start from the same node, whose age is 19 so most of him/her's friends are the same age and the friends of their friends also. \n",
    "\n",
    "3. Not knowing the total number of nodes (n) and edges (m) we had to use the estimator function without knowledge of n,m(seen in class)\n",
    "\n",
    " ## F =  $ \\frac{\\sum_{t} f(X_t) / d_{X_t}}{\\sum_{t} 1 / d_{X_t}} $\n",
    " \n",
    " With the new strategy we have around 43.5 which is really close to the true average.\n"
   ]
  },
  {
   "cell_type": "code",
   "execution_count": null,
   "metadata": {
    "collapsed": true
   },
   "outputs": [],
   "source": []
  }
 ],
 "metadata": {
  "anaconda-cloud": {},
  "kernelspec": {
   "display_name": "Python 3",
   "language": "python",
   "name": "python3"
  },
  "language_info": {
   "codemirror_mode": {
    "name": "ipython",
    "version": 3
   },
   "file_extension": ".py",
   "mimetype": "text/x-python",
   "name": "python",
   "nbconvert_exporter": "python",
   "pygments_lexer": "ipython3",
   "version": "3.5.2"
  }
 },
 "nbformat": 4,
 "nbformat_minor": 2
}
