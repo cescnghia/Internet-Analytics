{
 "cells": [
  {
   "cell_type": "markdown",
   "metadata": {},
   "source": [
    "# Networks: structure, evolution & processes\n",
    "**Internet Analytics - Lab 2**\n",
    "\n",
    "---\n",
    "\n",
    "**Group:** *N*\n",
    "\n",
    "**Names:**\n",
    "\n",
    "* *Sandra Djambazovska(224638)*\n",
    "* *Anh Nghia Khau(223613)*\n",
    "\n",
    "---\n",
    "\n",
    "#### Instructions\n",
    "\n",
    "*This is a template for part 4 of the lab. Clearly write your answers, comments and interpretations in Markodown cells. Don't forget that you can add $\\LaTeX$ equations in these cells. Feel free to add or remove any cell.*\n",
    "\n",
    "*Please properly comment your code. Code readability will be considered for grading. To avoid long cells of codes in the notebook, you can also embed long python functions and classes in a separate module. Don’t forget to hand in your module if that is the case. In multiple exercises, you are required to come up with your own method to solve various problems. Be creative and clearly motivate and explain your methods. Creativity and clarity will be considered for grading.*"
   ]
  },
  {
   "cell_type": "markdown",
   "metadata": {},
   "source": [
    "---\n",
    "\n",
    "## 2.4 PageRank\n",
    "\n",
    "### 2.4.1 Random Surfer Model\n",
    "\n",
    "#### Exercise 2.12"
   ]
  },
  {
   "cell_type": "code",
   "execution_count": 51,
   "metadata": {
    "collapsed": false
   },
   "outputs": [],
   "source": [
    "import networkx as nx\n",
    "import numpy as np\n",
    "import random as rand\n",
    "import csv\n",
    "import operator\n",
    "\n",
    "FILENAME_1 = '../data/absorbing.graph'\n",
    "G_1=nx.read_adjlist(FILENAME_1, create_using=nx.DiGraph())\n",
    "\n",
    "FILENAME_2 = '../data/components.graph'\n",
    "G_2=nx.read_adjlist(FILENAME_2, create_using=nx.DiGraph())\n",
    "\n",
    "FILENAME_3 = '../data/wikipedia.graph'\n",
    "G_3=nx.read_adjlist(FILENAME_3, create_using=nx.DiGraph())\n",
    "\n",
    "FILENAME_4 = '../data/wikipedia_titles.tsv'\n"
   ]
  },
  {
   "cell_type": "code",
   "execution_count": 3,
   "metadata": {
    "collapsed": false
   },
   "outputs": [
    {
     "name": "stderr",
     "output_type": "stream",
     "text": [
      "/opt/anaconda3/lib/python3.5/site-packages/ipykernel/__main__.py:12: VisibleDeprecationWarning: using a non-integer number instead of an integer will result in an error in the future\n"
     ]
    },
    {
     "data": {
      "text/plain": [
       "[0.0, 0.5, 0.0, 0.0, 0.5]"
      ]
     },
     "execution_count": 3,
     "metadata": {},
     "output_type": "execute_result"
    }
   ],
   "source": [
    "def random_surfer(G) :\n",
    "    nbNodes = len(G.nodes()) \n",
    "    rank = np.zeros(nbNodes)\n",
    "    \n",
    "    randomNode = rand.randint(0,nbNodes-1)\n",
    "    neighbors = G.neighbors(str(randomNode))\n",
    "    rank[randomNode] = 1.0\n",
    "    count = 1.0\n",
    "    while (len(neighbors) != 0):\n",
    "        randomNode = neighbors[rand.randint(0,len(neighbors)-1)]\n",
    "        neighbors = G.neighbors(str(randomNode))\n",
    "        rank[randomNode] += 1.0\n",
    "        count += 1.0\n",
    "    rank = [x / count for x in rank]\n",
    "    return rank\n",
    "\n",
    "\n",
    "random_surfer(G_1)    \n",
    "#random_surfer(G_2)  "
   ]
  },
  {
   "cell_type": "markdown",
   "metadata": {
    "collapsed": false
   },
   "source": [
    "2.12 It stops after a couple of iterations because it is stuck in the dangling node."
   ]
  },
  {
   "cell_type": "markdown",
   "metadata": {},
   "source": [
    "#### Exercise 2.13"
   ]
  },
  {
   "cell_type": "code",
   "execution_count": 5,
   "metadata": {
    "collapsed": false
   },
   "outputs": [
    {
     "name": "stdout",
     "output_type": "stream",
     "text": [
      "Rank of absorbing.graph:\n",
      "[0.126, 0.32700000000000001, 0.16900000000000001, 0.23799999999999999, 0.14000000000000001]\n",
      "------------------------------------------------------------------------------------------\n",
      "Rank of components.graph:\n",
      "[0.13400000000000001, 0.129, 0.13700000000000001, 0.069000000000000006, 0.153, 0.082000000000000003, 0.14899999999999999, 0.14699999999999999]\n"
     ]
    },
    {
     "name": "stderr",
     "output_type": "stream",
     "text": [
      "/opt/anaconda3/lib/python3.5/site-packages/ipykernel/__main__.py:21: VisibleDeprecationWarning: using a non-integer number instead of an integer will result in an error in the future\n"
     ]
    }
   ],
   "source": [
    "def PageRank(G, damping, max_iters):\n",
    "    nbNodes = len(G.nodes()) \n",
    "    rank = np.zeros(nbNodes)\n",
    "    \n",
    "    randomNode = rand.randint(0,nbNodes-1)\n",
    "    neighbors = G.neighbors(str(randomNode))\n",
    "    rank[randomNode] = 1.0\n",
    "    count = 1.0\n",
    "    while (count < max_iters):\n",
    "        if (len(neighbors) == 0):\n",
    "            randomNode = rand.randint(0,nbNodes-1)\n",
    "            neighbors = G.neighbors(str(randomNode))           \n",
    "        else :\n",
    "            random = rand.random()\n",
    "            if (random < damping):\n",
    "                randomNode = rand.randint(0,nbNodes-1)\n",
    "                neighbors = G.neighbors(str(randomNode)) \n",
    "            else: \n",
    "                randomNode = neighbors[rand.randint(0,len(neighbors)-1)]\n",
    "                neighbors = G.neighbors(str(randomNode))\n",
    "        rank[randomNode] += 1.0\n",
    "        count += 1.0\n",
    "    rank = [x / count for x in rank]\n",
    "    return rank  \n",
    "print (\"Rank of absorbing.graph:\")\n",
    "print (PageRank(G_1, 0.15, 1000))\n",
    "print (\"------------------------------------------------------------------------------------------\")\n",
    "print (\"Rank of components.graph:\")\n",
    "print (PageRank(G_2, 0.15, 1000))"
   ]
  },
  {
   "cell_type": "markdown",
   "metadata": {},
   "source": [
    "2.13 Now we are not stuck anymore because if we arrive at a dangling node we jump to a random node. And yes the PageRank score makes sense because:\n",
    "\n",
    "for components.graph: Looking at the file we can observe that we have two cycles. In the first cycle(0,1,2,3) node 2 has the highest in-degree 2. So it has the highest score(0.152) among nodes 0,1,2 and 3. Same goes for node 6 from the second cycle(4,5,6,7). \n",
    "\n",
    "for absorbing.graph: Node 1 has the highest rank, because it has the highest in-degree."
   ]
  },
  {
   "cell_type": "markdown",
   "metadata": {},
   "source": [
    "---\n",
    "\n",
    "### 2.4.2 Power Iteration Method\n",
    "\n",
    "#### Exercise 2.14: Power Iteration method"
   ]
  },
  {
   "cell_type": "code",
   "execution_count": 4,
   "metadata": {
    "collapsed": false
   },
   "outputs": [],
   "source": [
    "def power_iteration(Graph, theta_, threshold):\n",
    "    print ('Run power_iteration method: ')\n",
    "    nbNodes = float(len(Graph.nodes()))\n",
    "    H = np.zeros((nbNodes, nbNodes))\n",
    "    w = np.zeros((nbNodes, 1))\n",
    "    \n",
    "    for (u, v) in Graph.edges():\n",
    "        H[u,v] = 1.0 / len(Graph.neighbors(u))\n",
    "\n",
    "    for n in Graph.nodes():\n",
    "        if len(Graph.neighbors(n)) == 0:\n",
    "            w[int(n)] = 1\n",
    "        \n",
    "    H += np.dot(w, np.ones((nbNodes,1)).T) / nbNodes\n",
    "    \n",
    "    G = theta_ * H + (1-theta_) * np.ones((nbNodes,nbNodes)) / nbNodes\n",
    "    pi = np.ones((nbNodes, 1)) / nbNodes\n",
    "\n",
    "    step = 0\n",
    "    error = 1\n",
    "    while (error > threshold):\n",
    "        next_pi = (G.T @ pi)\n",
    "        error = np.sqrt(np.sum((pi - next_pi)**2))\n",
    "        pi = next_pi\n",
    "        step +=1\n",
    "        print ('Step: {v} has error {e}'.format(v=step, e=error))\n",
    "\n",
    "    return pi"
   ]
  },
  {
   "cell_type": "code",
   "execution_count": 5,
   "metadata": {
    "collapsed": false
   },
   "outputs": [
    {
     "name": "stdout",
     "output_type": "stream",
     "text": [
      "Run power_iteration method: \n"
     ]
    },
    {
     "name": "stderr",
     "output_type": "stream",
     "text": [
      "/opt/anaconda3/lib/python3.5/site-packages/ipykernel/__main__.py:4: VisibleDeprecationWarning: using a non-integer number instead of an integer will result in an error in the future\n",
      "/opt/anaconda3/lib/python3.5/site-packages/ipykernel/__main__.py:5: VisibleDeprecationWarning: using a non-integer number instead of an integer will result in an error in the future\n",
      "/opt/anaconda3/lib/python3.5/site-packages/ipykernel/__main__.py:8: VisibleDeprecationWarning: using a non-integer number instead of an integer will result in an error in the future\n",
      "/opt/anaconda3/lib/python3.5/site-packages/numpy/core/numeric.py:190: VisibleDeprecationWarning: using a non-integer number instead of an integer will result in an error in the future\n",
      "  a = empty(shape, dtype, order)\n"
     ]
    },
    {
     "name": "stdout",
     "output_type": "stream",
     "text": [
      "Step: 1 has error 0.026574081988216185\n",
      "Step: 2 has error 0.007768908954782299\n",
      "Step: 3 has error 0.0015630730868598207\n",
      "Step: 4 has error 0.0006216422904747214\n",
      "----------------------------------------------------------------\n",
      "Top ten pages with the best ranking score: \n",
      "1 ) United States\n",
      "2 ) United Kingdom\n",
      "3 ) France\n",
      "4 ) Europe\n",
      "5 ) Germany\n",
      "6 ) England\n",
      "7 ) World War II\n",
      "8 ) Latin\n",
      "9 ) India\n",
      "10 ) English language\n"
     ]
    }
   ],
   "source": [
    "ranking = power_iteration(G_3, .85, 1e-3)\n",
    "sorted_by_index = sorted(range(len(ranking)), key=lambda k: ranking[k])[::-1]\n",
    "top_ten = sorted_by_index[: 10]\n",
    "dict = {}\n",
    "\n",
    "\n",
    "with open(FILENAME_4, encoding='utf-8') as tsvfile:\n",
    "    tsvreader = csv.reader(tsvfile, delimiter=\"\\t\")\n",
    "    next(tsvreader)\n",
    "    for row in tsvreader:\n",
    "        if (int(row[0]) in top_ten):\n",
    "            dict[int(row[0])] = row[1]\n",
    "\n",
    "\n",
    "print ('----------------------------------------------------------------')\n",
    "print (\"Top ten pages with the best ranking score: \")\n",
    "count = 0\n",
    "for i in top_ten:\n",
    "    count += 1\n",
    "    print (count ,\")\", dict[i])"
   ]
  },
  {
   "cell_type": "markdown",
   "metadata": {},
   "source": [
    "---\n",
    "\n",
    "### 2.4.3 Gaming the system *(Bonus)*\n",
    "\n",
    "#### Exercise 2.15 *(Bonus)*"
   ]
  },
  {
   "cell_type": "code",
   "execution_count": 89,
   "metadata": {
    "collapsed": false
   },
   "outputs": [],
   "source": [
    "def improve_ranking(ID, name, Graph, sorted_by_index, maxEdges):\n",
    "    print (\"Old ranking of \",name, \": \", sorted_by_index.index(ID) + 1 )\n",
    "    G_4 = Graph.copy()\n",
    "    budget = maxEdges\n",
    "    neighbors = G_4.neighbors(str(ID))\n",
    "    \n",
    "    for topPage in sorted_by_index:                      # Go FROM top page\n",
    "        if (budget < 1):\n",
    "            break\n",
    "        if (ID not in G_4.neighbors(str(topPage))):      # If there is not a link FROM this page TO History.. page\n",
    "            G_4.add_edge(topPage, ID)\n",
    "            if (budget < 1):\n",
    "                break\n",
    "            budget -= 1\n",
    "        if (topPage not in neighbors):                  # If there is not a link FROM History.. TO to this page\n",
    "            G_4.add_edge(ID, topPage)\n",
    "            if (budget < 1):\n",
    "                break\n",
    "            budget -= 1\n",
    "        \n",
    "        for neig in G_4.neighbors(str(topPage)):       # For every neighbors of this page    \n",
    "            if (ID not in G_4.neighbors(str(neig))):\n",
    "                G_4.add_edge(neig, ID)\n",
    "                if (budget < 1):\n",
    "                    break\n",
    "                budget -= 1\n",
    "            \n",
    "            if (neig not in neighbors):\n",
    "                G_4.add_edge(ID, neig)\n",
    "                if (budget < 1):\n",
    "                    break\n",
    "                budget -= 1\n",
    "            \n",
    "    ranking_ = power_iteration(G_4, .85, 1e-3)\n",
    "    sorted_by_index_ = sorted(range(len(ranking_)), key=lambda k: ranking_[k])[::-1]\n",
    "    print (\"New ranking of \", name, \": \", sorted_by_index_.index(ID) + 1)\n",
    "    \n",
    "    return ranking_"
   ]
  },
  {
   "cell_type": "code",
   "execution_count": 91,
   "metadata": {
    "collapsed": false
   },
   "outputs": [
    {
     "name": "stdout",
     "output_type": "stream",
     "text": [
      "Old ranking of  History of mathematics :  2614\n",
      "Run power_iteration method: \n"
     ]
    },
    {
     "name": "stderr",
     "output_type": "stream",
     "text": [
      "/opt/anaconda3/lib/python3.5/site-packages/ipykernel/__main__.py:4: VisibleDeprecationWarning: using a non-integer number instead of an integer will result in an error in the future\n",
      "/opt/anaconda3/lib/python3.5/site-packages/ipykernel/__main__.py:5: VisibleDeprecationWarning: using a non-integer number instead of an integer will result in an error in the future\n",
      "/opt/anaconda3/lib/python3.5/site-packages/ipykernel/__main__.py:8: VisibleDeprecationWarning: using a non-integer number instead of an integer will result in an error in the future\n",
      "/opt/anaconda3/lib/python3.5/site-packages/numpy/core/numeric.py:190: VisibleDeprecationWarning: using a non-integer number instead of an integer will result in an error in the future\n",
      "  a = empty(shape, dtype, order)\n"
     ]
    },
    {
     "name": "stdout",
     "output_type": "stream",
     "text": [
      "Step: 1 has error 0.026551655909747875\n",
      "Step: 2 has error 0.011925027078467956\n",
      "Step: 3 has error 0.0027789507015402583\n",
      "Step: 4 has error 0.0008781650141731773\n",
      "New ranking of  History of mathematics :  1\n"
     ]
    }
   ],
   "source": [
    "ID = 2463 # ID of History of mathematics\n",
    "ranking_ = improve_ranking(ID, \"History of mathematics\", G_3, sorted_by_index, 300)"
   ]
  },
  {
   "cell_type": "markdown",
   "metadata": {},
   "source": [
    "We try to add a some interatives between \"History of mathematics\" and the TOP pages.\n",
    "\n",
    "Algorithm:\n",
    "    Assume that the top pages is : R1, R2, R3........\n",
    "    \n",
    "    Take page R1 (that has the best ranking):\n",
    "        Add a link from R1 to \"History of mathematics\" (if the link does not exist)\n",
    "        Add a link from \"History of mathematics\" to R1 (if the link does not exist)\n",
    "        For every neighbor N of R1:\n",
    "            Add a link from N to \"History of mathematics\" (if the link does not exist)\n",
    "            Add a link from \"History of mathematics\" to N (if the link does not exist) \n",
    "            \n",
    "       Repeat with R2,R3.... until we have already added 300 edges"
   ]
  },
  {
   "cell_type": "code",
   "execution_count": null,
   "metadata": {
    "collapsed": true
   },
   "outputs": [],
   "source": []
  }
 ],
 "metadata": {
  "anaconda-cloud": {},
  "kernelspec": {
   "display_name": "Python 3",
   "language": "python",
   "name": "python3"
  },
  "language_info": {
   "codemirror_mode": {
    "name": "ipython",
    "version": 3
   },
   "file_extension": ".py",
   "mimetype": "text/x-python",
   "name": "python",
   "nbconvert_exporter": "python",
   "pygments_lexer": "ipython3",
   "version": "3.5.2"
  }
 },
 "nbformat": 4,
 "nbformat_minor": 2
}
